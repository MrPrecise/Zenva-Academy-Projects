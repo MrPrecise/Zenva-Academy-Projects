{
 "cells": [
  {
   "cell_type": "code",
   "execution_count": null,
   "metadata": {},
   "outputs": [],
   "source": [
    "from bs4 import BeautifulSoup as soup\n",
    "from urllib.request import urlopen"
   ]
  },
  {
   "cell_type": "code",
   "execution_count": null,
   "metadata": {},
   "outputs": [],
   "source": [
    "wiki_url = 'https://en.wikipedia.org/wiki/Genome'\n",
    "wiki_data = urlopen(wiki_url)\n",
    "wiki_html = wiki_data.read()\n",
    "wiki_data.close()\n",
    "\n",
    "page_soup = soup(wiki_html, 'html.parser')"
   ]
  },
  {
   "cell_type": "code",
   "execution_count": null,
   "metadata": {},
   "outputs": [],
   "source": [
    "print(page_soup.h1)\n"
   ]
  },
  {
   "cell_type": "code",
   "execution_count": null,
   "metadata": {},
   "outputs": [],
   "source": [
    "genome_table = page_soup.find_all('table', {'class': 'sortable'})\n",
    "print(genome_table)"
   ]
  },
  {
   "cell_type": "code",
   "execution_count": null,
   "metadata": {},
   "outputs": [],
   "source": [
    "genome_table = genome_table[0]\n",
    "headers = genome_table.findAll('th', {})"
   ]
  },
  {
   "cell_type": "code",
   "execution_count": null,
   "metadata": {},
   "outputs": [],
   "source": [
    "header_titles = []\n",
    "\n",
    "for header in headers:\n",
    "    header_titles.append(header.text[:-1])\n",
    "\n",
    "print(header_titles)"
   ]
  },
  {
   "cell_type": "code",
   "execution_count": null,
   "metadata": {},
   "outputs": [],
   "source": [
    "all_rows = genome_table.findAll('tr', {})\n",
    "data = all_rows[1:]\n",
    "print(data)"
   ]
  },
  {
   "cell_type": "code",
   "execution_count": null,
   "metadata": {},
   "outputs": [],
   "source": [
    "first_row = data[0]\n",
    "first_row_data = first_row.findAll('td', {})\n",
    "print(first_row)"
   ]
  },
  {
   "cell_type": "code",
   "execution_count": null,
   "metadata": {},
   "outputs": [],
   "source": [
    "data_texts = []\n",
    "for data_text in first_row_data:\n",
    "    data_texts.append(data_text.text[:-1])\n",
    "print(data_text)"
   ]
  },
  {
   "cell_type": "code",
   "execution_count": null,
   "metadata": {},
   "outputs": [],
   "source": [
    "table_rows = []\n",
    "for row in data:\n",
    "    table_row = []\n",
    "    row_data = row.findAll('td',{})\n",
    "    for data_point in row_data:\n",
    "        table_row.append(data_point.text[:-1])\n",
    "    table_rows.append(table_row)\n",
    "print(table_rows)"
   ]
  },
  {
   "cell_type": "code",
   "execution_count": null,
   "metadata": {},
   "outputs": [],
   "source": [
    "filename = 'genome_table.csv'\n",
    "f = open(filename, 'w', encoding=\"utf-8\")\n",
    "\n",
    "header_string = ''\n",
    "for title in header_titles:\n",
    "    header_string += title + ','\n",
    "header_string = header_string[:-1]\n",
    "header_string += '\\n'\n",
    "\n",
    "f.write(header_string)\n",
    "\n",
    "for row in table_rows:\n",
    "    row_string = ''\n",
    "    for column in row:\n",
    "        column_string = column.replace(',','.')\n",
    "        row_string += column + ','\n",
    "    row_string = row_string[:-1]\n",
    "    row_string += '\\n'\n",
    "    f.write(row_string)\n",
    "\n",
    "f.close()"
   ]
  },
  {
   "cell_type": "code",
   "execution_count": null,
   "metadata": {},
   "outputs": [],
   "source": [
    "filename = 'Genome - Wikipedia.htm'\n",
    "f = open(filename, encoding=\"utf-8\")\n",
    "\n",
    "new_soup = soup(f, 'html.parser')\n",
    "print(new_soup.h1)"
   ]
  },
  {
   "cell_type": "code",
   "execution_count": null,
   "metadata": {},
   "outputs": [],
   "source": [
    "print(new_soup.find_all('table', {'class': 'wikitable sortable'}))"
   ]
  },
  {
   "cell_type": "code",
   "execution_count": null,
   "metadata": {},
   "outputs": [],
   "source": [
    "print(page_soup.h1)"
   ]
  },
  {
   "cell_type": "code",
   "execution_count": null,
   "metadata": {},
   "outputs": [],
   "source": [
    "references_list_raw = page_soup.find_all('ol', {'class': 'references'})\n",
    "print(references_list_raw)"
   ]
  },
  {
   "cell_type": "code",
   "execution_count": null,
   "metadata": {},
   "outputs": [],
   "source": [
    "references_list = references_list_raw[0].find_all('li', {})\n",
    "\n",
    "all_references = []\n",
    "for list_item in references_list:\n",
    "    references = []\n",
    "    for reference in list_item.find_all('a', {}):\n",
    "        references.append(reference['href'])\n",
    "    all_references.append(references)\n",
    "    \n",
    "print(all_references)\n",
    "    "
   ]
  }
 ],
 "metadata": {
  "kernelspec": {
   "display_name": "Python 3",
   "language": "python",
   "name": "python3"
  },
  "language_info": {
   "codemirror_mode": {
    "name": "ipython",
    "version": 3
   },
   "file_extension": ".py",
   "mimetype": "text/x-python",
   "name": "python",
   "nbconvert_exporter": "python",
   "pygments_lexer": "ipython3",
   "version": "3.12.1"
  }
 },
 "nbformat": 4,
 "nbformat_minor": 2
}
