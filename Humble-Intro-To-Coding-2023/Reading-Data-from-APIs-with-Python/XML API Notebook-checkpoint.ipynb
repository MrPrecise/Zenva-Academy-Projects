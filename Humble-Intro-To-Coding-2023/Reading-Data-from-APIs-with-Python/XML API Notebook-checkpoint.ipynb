{
 "cells": [
  {
   "cell_type": "code",
   "execution_count": 1,
   "metadata": {},
   "outputs": [],
   "source": [
    "from bs4 import BeautifulSoup as soup\n",
    "from urllib.request import urlopen"
   ]
  },
  {
   "cell_type": "code",
   "execution_count": 2,
   "metadata": {},
   "outputs": [
    {
     "ename": "FeatureNotFound",
     "evalue": "Couldn't find a tree builder with the features you requested: xml. Do you need to install a parser library?",
     "output_type": "error",
     "traceback": [
      "\u001b[1;31m---------------------------------------------------------------------------\u001b[0m",
      "\u001b[1;31mFeatureNotFound\u001b[0m                           Traceback (most recent call last)",
      "Cell \u001b[1;32mIn[2], line 4\u001b[0m\n\u001b[0;32m      2\u001b[0m url_result \u001b[38;5;241m=\u001b[39m urlopen(url)\n\u001b[0;32m      3\u001b[0m raw_data \u001b[38;5;241m=\u001b[39m url_result\u001b[38;5;241m.\u001b[39mread()\n\u001b[1;32m----> 4\u001b[0m xml_soup \u001b[38;5;241m=\u001b[39m \u001b[43msoup\u001b[49m\u001b[43m(\u001b[49m\u001b[43mraw_data\u001b[49m\u001b[43m,\u001b[49m\u001b[43m \u001b[49m\u001b[38;5;124;43m'\u001b[39;49m\u001b[38;5;124;43mxml\u001b[39;49m\u001b[38;5;124;43m'\u001b[39;49m\u001b[43m)\u001b[49m\n\u001b[0;32m      5\u001b[0m \u001b[38;5;28mprint\u001b[39m(xml_soup)\n",
      "File \u001b[1;32mc:\\Users\\eirik.thue\\AppData\\Local\\Programs\\Python\\Python312\\Lib\\site-packages\\bs4\\__init__.py:250\u001b[0m, in \u001b[0;36mBeautifulSoup.__init__\u001b[1;34m(self, markup, features, builder, parse_only, from_encoding, exclude_encodings, element_classes, **kwargs)\u001b[0m\n\u001b[0;32m    248\u001b[0m     builder_class \u001b[38;5;241m=\u001b[39m builder_registry\u001b[38;5;241m.\u001b[39mlookup(\u001b[38;5;241m*\u001b[39mfeatures)\n\u001b[0;32m    249\u001b[0m     \u001b[38;5;28;01mif\u001b[39;00m builder_class \u001b[38;5;129;01mis\u001b[39;00m \u001b[38;5;28;01mNone\u001b[39;00m:\n\u001b[1;32m--> 250\u001b[0m         \u001b[38;5;28;01mraise\u001b[39;00m FeatureNotFound(\n\u001b[0;32m    251\u001b[0m             \u001b[38;5;124m\"\u001b[39m\u001b[38;5;124mCouldn\u001b[39m\u001b[38;5;124m'\u001b[39m\u001b[38;5;124mt find a tree builder with the features you \u001b[39m\u001b[38;5;124m\"\u001b[39m\n\u001b[0;32m    252\u001b[0m             \u001b[38;5;124m\"\u001b[39m\u001b[38;5;124mrequested: \u001b[39m\u001b[38;5;132;01m%s\u001b[39;00m\u001b[38;5;124m. Do you need to install a parser library?\u001b[39m\u001b[38;5;124m\"\u001b[39m\n\u001b[0;32m    253\u001b[0m             \u001b[38;5;241m%\u001b[39m \u001b[38;5;124m\"\u001b[39m\u001b[38;5;124m,\u001b[39m\u001b[38;5;124m\"\u001b[39m\u001b[38;5;241m.\u001b[39mjoin(features))\n\u001b[0;32m    255\u001b[0m \u001b[38;5;66;03m# At this point either we have a TreeBuilder instance in\u001b[39;00m\n\u001b[0;32m    256\u001b[0m \u001b[38;5;66;03m# builder, or we have a builder_class that we can instantiate\u001b[39;00m\n\u001b[0;32m    257\u001b[0m \u001b[38;5;66;03m# with the remaining **kwargs.\u001b[39;00m\n\u001b[0;32m    258\u001b[0m \u001b[38;5;28;01mif\u001b[39;00m builder \u001b[38;5;129;01mis\u001b[39;00m \u001b[38;5;28;01mNone\u001b[39;00m:\n",
      "\u001b[1;31mFeatureNotFound\u001b[0m: Couldn't find a tree builder with the features you requested: xml. Do you need to install a parser library?"
     ]
    }
   ],
   "source": [
    "url = 'https://ehp.qld.gov.au/cgi-bin/air/xml.php?category=1&region=ALL'\n",
    "url_result = urlopen(url)\n",
    "raw_data = url_result.read()\n",
    "xml_soup = soup(raw_data, 'xml')\n",
    "print(xml_soup)"
   ]
  },
  {
   "cell_type": "code",
   "execution_count": null,
   "metadata": {},
   "outputs": [
    {
     "name": "stdout",
     "output_type": "stream",
     "text": [
      "<region information=\"http://www.qld.gov.au/environment/pollution/monitoring/air-monitoring/seq/\" name=\"South East Queensland\">\n",
      "<station information=\"http://www.qld.gov.au/environment/pollution/monitoring/air-monitoring/seq/#mountaincreek\" latitude=\"-26.6917\" longitude=\"153.104\" name=\"Mountain Creek\">\n",
      "<measurement index=\"1\" name=\"Nitrogen Dioxide\" rating=\"1\" rating_name=\"Very Good\">0.001</measurement>\n",
      "<measurement index=\"28\" name=\"Ozone\" rating=\"1\" rating_name=\"Very Good\">0.028</measurement>\n",
      "<measurement index=\"40\" name=\"Particle PM10\" rating=\"2\" rating_name=\"Good\">19.9</measurement>\n",
      "<measurement index=\"14\" name=\"Visibility\" rating=\"1\" rating_name=\"Very Good\">33</measurement>\n",
      "</station>\n",
      "<station information=\"http://www.qld.gov.au/environment/pollution/monitoring/air-monitoring/seq/#deception\" latitude=\"-27.4296\" longitude=\"153.158\" name=\"Deception Bay\">\n",
      "<measurement index=\"1\" name=\"Nitrogen Dioxide\" rating=\"1\" rating_name=\"Very Good\">0.001</measurement>\n",
      "<measurement index=\"25\" name=\"Ozone\" rating=\"1\" rating_name=\"Very Good\">0.025</measurement>\n",
      "</station>\n",
      "<station information=\"http://www.qld.gov.au/environment/pollution/monitoring/air-monitoring/seq/#wynnum\" latitude=\"-27.4296\" longitude=\"153.158\" name=\"Wynnum\">\n",
      "<measurement index=\"7\" name=\"Nitrogen Dioxide\" rating=\"1\" rating_name=\"Very Good\">0.008</measurement>\n",
      "<measurement index=\"1\" name=\"Sulfur Dioxide\" rating=\"1\" rating_name=\"Very Good\">0.002</measurement>\n",
      "<measurement index=\"34\" name=\"Particle PM10\" rating=\"2\" rating_name=\"Good\">16.9</measurement>\n",
      "<measurement index=\"22\" name=\"Particle PM2.5\" rating=\"1\" rating_name=\"Very Good\">5.4</measurement>\n",
      "</station>\n",
      "<station information=\"http://www.qld.gov.au/environment/pollution/monitoring/air-monitoring/seq/#wynnum\" latitude=\"-27.4379\" longitude=\"153.15\" name=\"Wynnum West\">\n",
      "<measurement index=\"2\" name=\"Sulfur Dioxide\" rating=\"1\" rating_name=\"Very Good\">0.004</measurement>\n",
      "<measurement index=\"30\" name=\"Particle PM10\" rating=\"1\" rating_name=\"Very Good\">15.2</measurement>\n",
      "<measurement index=\"20\" name=\"Particle PM2.5\" rating=\"1\" rating_name=\"Very Good\">5</measurement>\n",
      "</station>\n",
      "<station information=\"http://www.qld.gov.au/environment/pollution/monitoring/air-monitoring/seq/#wynnum\" latitude=\"-27.4065\" longitude=\"153.153\" name=\"Lytton\">\n",
      "<measurement index=\"2\" name=\"Sulfur Dioxide\" rating=\"1\" rating_name=\"Very Good\">0.004</measurement>\n",
      "<measurement index=\"37\" name=\"Particle PM10\" rating=\"2\" rating_name=\"Good\">18.4</measurement>\n",
      "<measurement index=\"22\" name=\"Particle PM2.5\" rating=\"1\" rating_name=\"Very Good\">5.6</measurement>\n",
      "</station>\n",
      "<station information=\"http://www.qld.gov.au/environment/pollution/monitoring/air-monitoring/seq/#cannonhill\" latitude=\"-27.4654\" longitude=\"153.087\" name=\"Cannon Hill\">\n",
      "<measurement index=\"16\" name=\"Ozone\" rating=\"1\" rating_name=\"Very Good\">0.016</measurement>\n",
      "<measurement index=\"30\" name=\"Particles TSP\" rating=\"1\" rating_name=\"Very Good\">24</measurement>\n",
      "<measurement index=\"33\" name=\"Particle PM10\" rating=\"1\" rating_name=\"Very Good\">16.6</measurement>\n",
      "<measurement index=\"32\" name=\"Particle PM2.5\" rating=\"1\" rating_name=\"Very Good\">7.9</measurement>\n",
      "</station>\n",
      "<station information=\"http://www.qld.gov.au/environment/pollution/monitoring/air-monitoring/seq/#cbd\" latitude=\"-27.4774\" longitude=\"153.028\" name=\"Brisbane CBD\">\n",
      "<measurement index=\"33\" name=\"Particle PM10\" rating=\"1\" rating_name=\"Very Good\">16.5</measurement>\n",
      "<measurement index=\"12\" name=\"Visibility\" rating=\"1\" rating_name=\"Very Good\">29</measurement>\n",
      "</station>\n",
      "<station information=\"http://www.qld.gov.au/environment/pollution/monitoring/air-monitoring/seq/#gabba\" latitude=\"-27.4975\" longitude=\"153.035\" name=\"Woolloongabba\">\n",
      "<measurement index=\"0\" name=\"Carbon Monoxide\" rating=\"1\" rating_name=\"Very Good\">0</measurement>\n",
      "<measurement index=\"7\" name=\"Nitrogen Dioxide\" rating=\"1\" rating_name=\"Very Good\">0.008</measurement>\n",
      "<measurement index=\"49\" name=\"Particle PM10\" rating=\"2\" rating_name=\"Good\">24.4</measurement>\n",
      "<measurement index=\"61\" name=\"Particle PM2.5\" rating=\"2\" rating_name=\"Good\">15.3</measurement>\n",
      "</station>\n",
      "<station information=\"http://www.qld.gov.au/environment/pollution/monitoring/air-monitoring/seq/#southbris\" latitude=\"-27.4848\" longitude=\"153.032\" name=\"South Brisbane\">\n",
      "<measurement index=\"1\" name=\"Carbon Monoxide\" rating=\"1\" rating_name=\"Very Good\">0.1</measurement>\n",
      "<measurement index=\"9\" name=\"Nitrogen Dioxide\" rating=\"1\" rating_name=\"Very Good\">0.011</measurement>\n",
      "<measurement index=\"39\" name=\"Particle PM10\" rating=\"2\" rating_name=\"Good\">19.4</measurement>\n",
      "<measurement index=\"37\" name=\"Particle PM2.5\" rating=\"2\" rating_name=\"Good\">9.2</measurement>\n",
      "</station>\n",
      "<station information=\"http://www.qld.gov.au/environment/pollution/monitoring/air-monitoring/seq/#rocklea\" latitude=\"-27.5358\" longitude=\"152.993\" name=\"Rocklea\">\n",
      "<measurement index=\"2\" name=\"Nitrogen Dioxide\" rating=\"1\" rating_name=\"Very Good\">0.002</measurement>\n",
      "<measurement index=\"21\" name=\"Ozone\" rating=\"1\" rating_name=\"Very Good\">0.021</measurement>\n",
      "<measurement index=\"32\" name=\"Particle PM10\" rating=\"1\" rating_name=\"Very Good\">16</measurement>\n",
      "<measurement index=\"32\" name=\"Particle PM2.5\" rating=\"1\" rating_name=\"Very Good\">8.1</measurement>\n",
      "<measurement index=\"14\" name=\"Visibility\" rating=\"1\" rating_name=\"Very Good\">33</measurement>\n",
      "</station>\n",
      "<station information=\"http://www.qld.gov.au/environment/pollution/monitoring/air-monitoring/seq/#springwood\" latitude=\"-27.6125\" longitude=\"153.136\" name=\"Springwood\">\n",
      "<measurement index=\"8\" name=\"Nitrogen Dioxide\" rating=\"1\" rating_name=\"Very Good\">0.009</measurement>\n",
      "<measurement index=\"-4999500\" name=\"Sulfur Dioxide\" rating=\"0\" rating_name=\"Not Available\">-9999</measurement>\n",
      "<measurement index=\"30\" name=\"Particle PM10\" rating=\"1\" rating_name=\"Very Good\">15.1</measurement>\n",
      "<measurement index=\"32\" name=\"Particle PM2.5\" rating=\"1\" rating_name=\"Very Good\">8.1</measurement>\n",
      "</station>\n",
      "<station information=\"http://www.qld.gov.au/environment/pollution/monitoring/air-monitoring/seq/#northmaclean\" latitude=\"-27.7708\" longitude=\"153.03\" name=\"North Maclean\">\n",
      "<measurement index=\"3\" name=\"Nitrogen Dioxide\" rating=\"1\" rating_name=\"Very Good\">0.003</measurement>\n",
      "<measurement index=\"11\" name=\"Ozone\" rating=\"1\" rating_name=\"Very Good\">0.011</measurement>\n",
      "</station>\n",
      "<station information=\"https://www.qld.gov.au/environment/pollution/monitoring/air-monitoring/seq#southport\" latitude=\"-27.9612\" longitude=\"153.402\" name=\"Southport\">\n",
      "<measurement index=\"1\" name=\"Nitrogen Dioxide\" rating=\"1\" rating_name=\"Very Good\">0.001</measurement>\n",
      "<measurement index=\"28\" name=\"Ozone\" rating=\"1\" rating_name=\"Very Good\">0.028</measurement>\n",
      "<measurement index=\"36\" name=\"Particle PM10\" rating=\"2\" rating_name=\"Good\">17.8</measurement>\n",
      "<measurement index=\"32\" name=\"Particle PM2.5\" rating=\"1\" rating_name=\"Very Good\">8.1</measurement>\n",
      "</station>\n",
      "<station information=\"http://www.qld.gov.au/environment/pollution/monitoring/air-monitoring/seq/#flinders\" latitude=\"-27.6528\" longitude=\"152.774\" name=\"Flinders View\">\n",
      "<measurement index=\"2\" name=\"Nitrogen Dioxide\" rating=\"1\" rating_name=\"Very Good\">0.002</measurement>\n",
      "<measurement index=\"15\" name=\"Ozone\" rating=\"1\" rating_name=\"Very Good\">0.015</measurement>\n",
      "<measurement index=\"0\" name=\"Sulfur Dioxide\" rating=\"1\" rating_name=\"Very Good\">0</measurement>\n",
      "<measurement index=\"43\" name=\"Particle PM10\" rating=\"2\" rating_name=\"Good\">21.4</measurement>\n",
      "<measurement index=\"22\" name=\"Visibility\" rating=\"1\" rating_name=\"Very Good\">51</measurement>\n",
      "</station>\n",
      "<station information=\"http://www.qld.gov.au/environment/pollution/monitoring/air-monitoring/seq/#mutdapilly\" latitude=\"-27.7528\" longitude=\"152.651\" name=\"Mutdapilly\">\n",
      "<measurement index=\"2\" name=\"Nitrogen Dioxide\" rating=\"1\" rating_name=\"Very Good\">0.002</measurement>\n",
      "<measurement index=\"15\" name=\"Ozone\" rating=\"1\" rating_name=\"Very Good\">0.015</measurement>\n",
      "</station>\n",
      "</region>\n"
     ]
    }
   ],
   "source": [
    "southEastQueensland = xml_soup.findAll('region', {'name': 'South East Queensland'})\n",
    "southEastQueensland = southEastQueensland[0]\n",
    "print(southEastQueensland)"
   ]
  },
  {
   "cell_type": "code",
   "execution_count": null,
   "metadata": {},
   "outputs": [
    {
     "name": "stdout",
     "output_type": "stream",
     "text": [
      "<station information=\"http://www.qld.gov.au/environment/pollution/monitoring/air-monitoring/seq/#mountaincreek\" latitude=\"-26.6917\" longitude=\"153.104\" name=\"Mountain Creek\">\n",
      "<measurement index=\"1\" name=\"Nitrogen Dioxide\" rating=\"1\" rating_name=\"Very Good\">0.001</measurement>\n",
      "<measurement index=\"28\" name=\"Ozone\" rating=\"1\" rating_name=\"Very Good\">0.028</measurement>\n",
      "<measurement index=\"40\" name=\"Particle PM10\" rating=\"2\" rating_name=\"Good\">19.9</measurement>\n",
      "<measurement index=\"14\" name=\"Visibility\" rating=\"1\" rating_name=\"Very Good\">33</measurement>\n",
      "</station>\n"
     ]
    }
   ],
   "source": [
    "stations = southEastQueensland.findAll('station', {})\n",
    "first_station = stations[0]\n",
    "print(first_station)"
   ]
  },
  {
   "cell_type": "code",
   "execution_count": null,
   "metadata": {},
   "outputs": [
    {
     "name": "stdout",
     "output_type": "stream",
     "text": [
      "[<measurement index=\"1\" name=\"Nitrogen Dioxide\" rating=\"1\" rating_name=\"Very Good\">0.001</measurement>]\n"
     ]
    }
   ],
   "source": [
    "print(first_station.findAll('measurement', {'name':'Nitrogen Dioxide'}))"
   ]
  },
  {
   "cell_type": "code",
   "execution_count": null,
   "metadata": {},
   "outputs": [],
   "source": [
    "headers = 'Station Name, Nitrogen Dioxide, Ozone, Sulfur Dioxide, Carbon Monoxide, Particle PM10, Particle PM2.5, Particles TSP, Visibility\\n'"
   ]
  },
  {
   "cell_type": "code",
   "execution_count": null,
   "metadata": {},
   "outputs": [],
   "source": [
    "filename = 'Air Quality XML.csv'\n",
    "f = open(filename, 'w')\n",
    "\n",
    "f.write(headers)\n",
    "\n",
    "for station in stations:\n",
    "    station_string = ''\n",
    "    station_name = station['name'] + ','\n",
    "    nd = station.findAll('measurement', {'name': 'Nitrogen Dioxide'})\n",
    "    nd = ',' if len(nd) == 0 else str(nd[0].text) + ','\n",
    "    o = station.findAll('measurement', {'name': 'Ozone'})\n",
    "    o = ',' if len(o) == 0 else str(o[0].text) + ','\n",
    "    sd = station.findAll('measurement', {'name': 'Sulfur Dioxide'})\n",
    "    sd = ',' if len(sd) == 0 else str(sd[0].text) + ','\n",
    "    cm = station.findAll('measurement', {'name': 'Carbon Monoxide'})\n",
    "    cm = ',' if len(cm) == 0 else str(cm[0].text) + ','\n",
    "    ppm10 = station.findAll('measurement', {'name': 'Particle PM10'})\n",
    "    ppm10 = ',' if len(ppm10) == 0 else str(ppm10[0].text) + ','\n",
    "    ppm2 = station.findAll('measurement', {'name': 'Particle PM2.5'})\n",
    "    ppm2 = ',' if len(ppm2) == 0 else str(ppm2[0].text) + ','\n",
    "    ptsp = station.findAll('measurement', {'name': 'Particles TSP'})\n",
    "    ptsp = ',' if len(ptsp) == 0 else str(ptsp[0].text) + ','\n",
    "    v = station.findAll('measurement', {'name': 'Visibility'})\n",
    "    v = '\\n' if len(v) == 0 else str(v[0].text) + '\\n'\n",
    "    \n",
    "    station_string += station_name + nd + o + sd + cm + ppm10 + ppm2 + ptsp + v\n",
    "    f.write(station_string)\n"
   ]
  }
 ],
 "metadata": {
  "kernelspec": {
   "display_name": "Python 3",
   "language": "python",
   "name": "python3"
  },
  "language_info": {
   "codemirror_mode": {
    "name": "ipython",
    "version": 3
   },
   "file_extension": ".py",
   "mimetype": "text/x-python",
   "name": "python",
   "nbconvert_exporter": "python",
   "pygments_lexer": "ipython3",
   "version": "3.12.1"
  }
 },
 "nbformat": 4,
 "nbformat_minor": 2
}
