{
 "cells": [
  {
   "cell_type": "code",
   "execution_count": 1,
   "metadata": {},
   "outputs": [],
   "source": [
    "from urllib.request import urlopen\n",
    "import json"
   ]
  },
  {
   "cell_type": "code",
   "execution_count": 5,
   "metadata": {},
   "outputs": [
    {
     "name": "stdout",
     "output_type": "stream",
     "text": [
      "{\"help\": \"https://data.qld.gov.au/api/3/action/help_show?name=datastore_search\", \"success\": true, \"result\": {\"include_total\": true, \"resource_id\": \"7afe7233-fae0-4024-bc98-3a72f05675bd\", \"fields\": [{\"type\": \"int\", \"id\": \"_id\"}, {\"type\": \"text\", \"id\": \"Site\"}, {\"type\": \"numeric\", \"id\": \"Seconds\"}, {\"type\": \"timestamp\", \"id\": \"DateTime\"}, {\"type\": \"numeric\", \"id\": \"Water Level\"}, {\"type\": \"numeric\", \"id\": \"Prediction\"}, {\"type\": \"numeric\", \"id\": \"Residual\"}], \"records_format\": \"objects\", \"records\": [{\"_id\": 1, \"Site\": \"abellpoint\", \"Seconds\": 1540044000, \"DateTime\": \"2018-10-21T00:00:00\", \"Water Level\": 1.243, \"Prediction\": 1.374, \"Residual\": -0.131}, {\"_id\": 2, \"Site\": \"abellpoint\", \"Seconds\": 1540044600, \"DateTime\": \"2018-10-21T00:10:00\", \"Water Level\": 1.148, \"Prediction\": 1.286, \"Residual\": -0.138}, {\"_id\": 3, \"Site\": \"abellpoint\", \"Seconds\": 1540045200, \"DateTime\": \"2018-10-21T00:20:00\", \"Water Level\": 1.073, \"Prediction\": 1.201, \"Residual\": -0.128}, {\"_id\": 4, \"Site\": \"abellpoint\", \"Seconds\": 1540045800, \"DateTime\": \"2018-10-21T00:30:00\", \"Water Level\": 0.993, \"Prediction\": 1.121, \"Residual\": -0.128}, {\"_id\": 5, \"Site\": \"abellpoint\", \"Seconds\": 1540046400, \"DateTime\": \"2018-10-21T00:40:00\", \"Water Level\": 0.917, \"Prediction\": 1.046, \"Residual\": -0.129}], \"limit\": 5, \"_links\": {\"start\": \"/api/action/datastore_search?limit=5&resource_id=7afe7233-fae0-4024-bc98-3a72f05675bd\", \"next\": \"/api/action/datastore_search?offset=5&limit=5&resource_id=7afe7233-fae0-4024-bc98-3a72f05675bd\"}, \"total\": 54444}}\n"
     ]
    }
   ],
   "source": [
    "url = 'https://data.qld.gov.au/api/action/datastore_search?resource_id=7afe7233-fae0-4024-bc98-3a72f05675bd&limit=5'\n",
    "url_result = urlopen(url)\n",
    "raw_data = url_result.read()\n",
    "json_data = json.loads(raw_data)\n",
    "json_string = json.dumps(json_data)\n",
    "print(json_string)"
   ]
  },
  {
   "cell_type": "code",
   "execution_count": 11,
   "metadata": {},
   "outputs": [
    {
     "name": "stdout",
     "output_type": "stream",
     "text": [
      "{'include_total': True, 'resource_id': '7afe7233-fae0-4024-bc98-3a72f05675bd', 'fields': [{'type': 'int', 'id': '_id'}, {'type': 'text', 'id': 'Site'}, {'type': 'numeric', 'id': 'Seconds'}, {'type': 'timestamp', 'id': 'DateTime'}, {'type': 'numeric', 'id': 'Water Level'}, {'type': 'numeric', 'id': 'Prediction'}, {'type': 'numeric', 'id': 'Residual'}], 'records_format': 'objects', 'records': [{'_id': 1, 'Site': 'abellpoint', 'Seconds': 1540044000, 'DateTime': '2018-10-21T00:00:00', 'Water Level': 1.243, 'Prediction': 1.374, 'Residual': -0.131}, {'_id': 2, 'Site': 'abellpoint', 'Seconds': 1540044600, 'DateTime': '2018-10-21T00:10:00', 'Water Level': 1.148, 'Prediction': 1.286, 'Residual': -0.138}, {'_id': 3, 'Site': 'abellpoint', 'Seconds': 1540045200, 'DateTime': '2018-10-21T00:20:00', 'Water Level': 1.073, 'Prediction': 1.201, 'Residual': -0.128}, {'_id': 4, 'Site': 'abellpoint', 'Seconds': 1540045800, 'DateTime': '2018-10-21T00:30:00', 'Water Level': 0.993, 'Prediction': 1.121, 'Residual': -0.128}, {'_id': 5, 'Site': 'abellpoint', 'Seconds': 1540046400, 'DateTime': '2018-10-21T00:40:00', 'Water Level': 0.917, 'Prediction': 1.046, 'Residual': -0.129}], 'limit': 5, '_links': {'start': '/api/action/datastore_search?limit=5&resource_id=7afe7233-fae0-4024-bc98-3a72f05675bd', 'next': '/api/action/datastore_search?offset=5&limit=5&resource_id=7afe7233-fae0-4024-bc98-3a72f05675bd'}, 'total': 54444}\n"
     ]
    }
   ],
   "source": [
    "result = json_data['result']\n",
    "print(result)"
   ]
  },
  {
   "cell_type": "code",
   "execution_count": 12,
   "metadata": {},
   "outputs": [
    {
     "name": "stdout",
     "output_type": "stream",
     "text": [
      "[{'_id': 1, 'Site': 'abellpoint', 'Seconds': 1540044000, 'DateTime': '2018-10-21T00:00:00', 'Water Level': 1.243, 'Prediction': 1.374, 'Residual': -0.131}, {'_id': 2, 'Site': 'abellpoint', 'Seconds': 1540044600, 'DateTime': '2018-10-21T00:10:00', 'Water Level': 1.148, 'Prediction': 1.286, 'Residual': -0.138}, {'_id': 3, 'Site': 'abellpoint', 'Seconds': 1540045200, 'DateTime': '2018-10-21T00:20:00', 'Water Level': 1.073, 'Prediction': 1.201, 'Residual': -0.128}, {'_id': 4, 'Site': 'abellpoint', 'Seconds': 1540045800, 'DateTime': '2018-10-21T00:30:00', 'Water Level': 0.993, 'Prediction': 1.121, 'Residual': -0.128}, {'_id': 5, 'Site': 'abellpoint', 'Seconds': 1540046400, 'DateTime': '2018-10-21T00:40:00', 'Water Level': 0.917, 'Prediction': 1.046, 'Residual': -0.129}]\n"
     ]
    }
   ],
   "source": [
    "records = result['records']\n",
    "print(records)"
   ]
  },
  {
   "cell_type": "code",
   "execution_count": 14,
   "metadata": {},
   "outputs": [
    {
     "name": "stdout",
     "output_type": "stream",
     "text": [
      "abellpoint\n",
      "2018-10-21T00:00:00\n",
      "1.243\n",
      "1.374\n",
      "-0.131\n"
     ]
    }
   ],
   "source": [
    "first_record = records[0]\n",
    "print(first_record['Site'])\n",
    "print(first_record['DateTime'])\n",
    "print(first_record['Water Level'])\n",
    "print(first_record['Prediction'])\n",
    "print(first_record['Residual'])\n"
   ]
  },
  {
   "cell_type": "code",
   "execution_count": 15,
   "metadata": {},
   "outputs": [
    {
     "name": "stdout",
     "output_type": "stream",
     "text": [
      "[['abellpoint', '2018-10-21T00:00:00', 1.243, 1.374, -0.131], ['abellpoint', '2018-10-21T00:10:00', 1.148, 1.286, -0.138], ['abellpoint', '2018-10-21T00:20:00', 1.073, 1.201, -0.128], ['abellpoint', '2018-10-21T00:30:00', 0.993, 1.121, -0.128], ['abellpoint', '2018-10-21T00:40:00', 0.917, 1.046, -0.129]]\n"
     ]
    }
   ],
   "source": [
    "records_data = []\n",
    "for record in records:\n",
    "    record_data = [\n",
    "        record['Site'],\n",
    "        record['DateTime'],\n",
    "        record['Water Level'],\n",
    "        record['Prediction'],\n",
    "        record['Residual']\n",
    "    ]\n",
    "    records_data.append(record_data)\n",
    "print(records_data)"
   ]
  },
  {
   "cell_type": "code",
   "execution_count": 17,
   "metadata": {},
   "outputs": [],
   "source": [
    "filename = 'Storm Tide Data.csv'\n",
    "f = open(filename, 'w')\n",
    "\n",
    "headers = 'Site, DateTime, Water Level, Prediction, Residual\\n'\n",
    "f.write(headers)\n",
    "\n",
    "for record in records:\n",
    "    row_string = ''\n",
    "    row_string += record['Site'] + ','\n",
    "    row_string += record['DateTime'] + ','\n",
    "    row_string += str(record['Water Level']) + ','\n",
    "    row_string += str(record['Prediction']) + ','\n",
    "    row_string += str(record['Residual']) + '\\n'\n",
    "    f.write(row_string)\n",
    "    \n"
   ]
  },
  {
   "cell_type": "code",
   "execution_count": null,
   "metadata": {},
   "outputs": [],
   "source": []
  }
 ],
 "metadata": {
  "kernelspec": {
   "display_name": "Python 3",
   "language": "python",
   "name": "python3"
  },
  "language_info": {
   "codemirror_mode": {
    "name": "ipython",
    "version": 3
   },
   "file_extension": ".py",
   "mimetype": "text/x-python",
   "name": "python",
   "nbconvert_exporter": "python",
   "pygments_lexer": "ipython3",
   "version": "3.6.5"
  }
 },
 "nbformat": 4,
 "nbformat_minor": 2
}
