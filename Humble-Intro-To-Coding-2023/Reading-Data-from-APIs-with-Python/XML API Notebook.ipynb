{
 "cells": [
  {
   "cell_type": "code",
   "execution_count": 1,
   "metadata": {},
   "outputs": [],
   "source": [
    "from bs4 import BeautifulSoup as soup\n",
    "from urllib.request import urlopen"
   ]
  },
  {
   "cell_type": "code",
   "execution_count": 2,
   "metadata": {},
   "outputs": [
    {
     "ename": "FeatureNotFound",
     "evalue": "Couldn't find a tree builder with the features you requested: xml. Do you need to install a parser library?",
     "output_type": "error",
     "traceback": [
      "\u001b[1;31m---------------------------------------------------------------------------\u001b[0m",
      "\u001b[1;31mFeatureNotFound\u001b[0m                           Traceback (most recent call last)",
      "Cell \u001b[1;32mIn[2], line 4\u001b[0m\n\u001b[0;32m      2\u001b[0m url_result \u001b[38;5;241m=\u001b[39m urlopen(url)\n\u001b[0;32m      3\u001b[0m raw_data \u001b[38;5;241m=\u001b[39m url_result\u001b[38;5;241m.\u001b[39mread()\n\u001b[1;32m----> 4\u001b[0m xml_soup \u001b[38;5;241m=\u001b[39m \u001b[43msoup\u001b[49m\u001b[43m(\u001b[49m\u001b[43mraw_data\u001b[49m\u001b[43m,\u001b[49m\u001b[43m \u001b[49m\u001b[38;5;124;43m'\u001b[39;49m\u001b[38;5;124;43mxml\u001b[39;49m\u001b[38;5;124;43m'\u001b[39;49m\u001b[43m)\u001b[49m\n\u001b[0;32m      5\u001b[0m \u001b[38;5;28mprint\u001b[39m(xml_soup)\n",
      "File \u001b[1;32mc:\\Users\\eirik.thue\\AppData\\Local\\Programs\\Python\\Python312\\Lib\\site-packages\\bs4\\__init__.py:250\u001b[0m, in \u001b[0;36mBeautifulSoup.__init__\u001b[1;34m(self, markup, features, builder, parse_only, from_encoding, exclude_encodings, element_classes, **kwargs)\u001b[0m\n\u001b[0;32m    248\u001b[0m     builder_class \u001b[38;5;241m=\u001b[39m builder_registry\u001b[38;5;241m.\u001b[39mlookup(\u001b[38;5;241m*\u001b[39mfeatures)\n\u001b[0;32m    249\u001b[0m     \u001b[38;5;28;01mif\u001b[39;00m builder_class \u001b[38;5;129;01mis\u001b[39;00m \u001b[38;5;28;01mNone\u001b[39;00m:\n\u001b[1;32m--> 250\u001b[0m         \u001b[38;5;28;01mraise\u001b[39;00m FeatureNotFound(\n\u001b[0;32m    251\u001b[0m             \u001b[38;5;124m\"\u001b[39m\u001b[38;5;124mCouldn\u001b[39m\u001b[38;5;124m'\u001b[39m\u001b[38;5;124mt find a tree builder with the features you \u001b[39m\u001b[38;5;124m\"\u001b[39m\n\u001b[0;32m    252\u001b[0m             \u001b[38;5;124m\"\u001b[39m\u001b[38;5;124mrequested: \u001b[39m\u001b[38;5;132;01m%s\u001b[39;00m\u001b[38;5;124m. Do you need to install a parser library?\u001b[39m\u001b[38;5;124m\"\u001b[39m\n\u001b[0;32m    253\u001b[0m             \u001b[38;5;241m%\u001b[39m \u001b[38;5;124m\"\u001b[39m\u001b[38;5;124m,\u001b[39m\u001b[38;5;124m\"\u001b[39m\u001b[38;5;241m.\u001b[39mjoin(features))\n\u001b[0;32m    255\u001b[0m \u001b[38;5;66;03m# At this point either we have a TreeBuilder instance in\u001b[39;00m\n\u001b[0;32m    256\u001b[0m \u001b[38;5;66;03m# builder, or we have a builder_class that we can instantiate\u001b[39;00m\n\u001b[0;32m    257\u001b[0m \u001b[38;5;66;03m# with the remaining **kwargs.\u001b[39;00m\n\u001b[0;32m    258\u001b[0m \u001b[38;5;28;01mif\u001b[39;00m builder \u001b[38;5;129;01mis\u001b[39;00m \u001b[38;5;28;01mNone\u001b[39;00m:\n",
      "\u001b[1;31mFeatureNotFound\u001b[0m: Couldn't find a tree builder with the features you requested: xml. Do you need to install a parser library?"
     ]
    }
   ],
   "source": [
    "url = 'https://ehp.qld.gov.au/cgi-bin/air/xml.php?category=1&region=ALL'\n",
    "url_result = urlopen(url)\n",
    "raw_data = url_result.read()\n",
    "xml_soup = soup(raw_data, 'xml')\n",
    "print(xml_soup)"
   ]
  },
  {
   "cell_type": "code",
   "execution_count": null,
   "metadata": {},
   "outputs": [
    {
     "name": "stdout",
     "output_type": "stream",
     "text": [
      "<region information=\"https://www.qld.gov.au/environment/pollution/monitoring/air-monitoring/seq/\" name=\"South East Queensland\">\n",
      "<station information=\"https://apps.des.qld.gov.au/air-quality/stations/?station=mut\" latitude=\"-27.7528\" longitude=\"152.6509\" name=\"Mutdapilly\">\n",
      "<measurement index=\"21.5\" name=\"Ozone\" rating=\"1\" rating_name=\"Very Good\">0.014</measurement>\n",
      "<measurement index=\"2.5\" name=\"Nitrogen dioxide\" rating=\"1\" rating_name=\"Very Good\">0.002</measurement>\n",
      "<measurement index=\"47.6\" name=\"Particle PM10\" rating=\"2\" rating_name=\"Good\">23.8</measurement>\n",
      "<measurement index=\"20.8\" name=\"Particle PM2.5\" rating=\"1\" rating_name=\"Very Good\">5.2</measurement>\n",
      "</station>\n",
      "<station information=\"https://apps.des.qld.gov.au/air-quality/stations/?station=wyw\" latitude=\"-27.4296\" longitude=\"153.1495\" name=\"Wynnum West\">\n",
      "<measurement index=\"1\" name=\"Sulfur dioxide\" rating=\"1\" rating_name=\"Very Good\">0.001</measurement>\n",
      "<measurement index=\"26.8\" name=\"Particle PM10\" rating=\"1\" rating_name=\"Very Good\">13.4</measurement>\n",
      "<measurement index=\"10.8\" name=\"Particle PM2.5\" rating=\"1\" rating_name=\"Very Good\">2.7</measurement>\n",
      "</station>\n",
      "<station information=\"https://apps.des.qld.gov.au/air-quality/stations/?station=nmc\" latitude=\"-27.7708\" longitude=\"153.03\" name=\"North Maclean\">\n",
      "<measurement index=\"15.4\" name=\"Ozone\" rating=\"1\" rating_name=\"Very Good\">0.01</measurement>\n",
      "<measurement index=\"2.5\" name=\"Nitrogen dioxide\" rating=\"1\" rating_name=\"Very Good\">0.002</measurement>\n",
      "<measurement index=\"28.4\" name=\"Particle PM10\" rating=\"1\" rating_name=\"Very Good\">14.2</measurement>\n",
      "<measurement index=\"24.8\" name=\"Particle PM2.5\" rating=\"1\" rating_name=\"Very Good\">6.2</measurement>\n",
      "</station>\n",
      "<station information=\"https://apps.des.qld.gov.au/air-quality/stations/?station=nam\" latitude=\"-26.6429\" longitude=\"152.9397\" name=\"Nambour\">\n",
      "<measurement index=\"25.8\" name=\"Particle PM10\" rating=\"1\" rating_name=\"Very Good\">12.9</measurement>\n",
      "<measurement index=\"18\" name=\"Particle PM2.5\" rating=\"1\" rating_name=\"Very Good\">4.5</measurement>\n",
      "</station>\n",
      "<station information=\"https://apps.des.qld.gov.au/air-quality/stations/?station=woo\" latitude=\"-27.4975\" longitude=\"153.035\" name=\"Woolloongabba\">\n",
      "<measurement index=\"0\" name=\"Carbon monoxide\" rating=\"1\" rating_name=\"Very Good\">0</measurement>\n",
      "<measurement index=\"6.2\" name=\"Nitrogen dioxide\" rating=\"1\" rating_name=\"Very Good\">0.005</measurement>\n",
      "<measurement index=\"32.8\" name=\"Particle PM10\" rating=\"1\" rating_name=\"Very Good\">16.4</measurement>\n",
      "<measurement index=\"20.8\" name=\"Particle PM2.5\" rating=\"1\" rating_name=\"Very Good\">5.2</measurement>\n",
      "</station>\n",
      "<station information=\"https://apps.des.qld.gov.au/air-quality/stations/?station=sbr\" latitude=\"-27.4848\" longitude=\"153.0321\" name=\"South Brisbane\">\n",
      "<measurement index=\"0\" name=\"Carbon monoxide\" rating=\"1\" rating_name=\"Very Good\">0</measurement>\n",
      "<measurement index=\"13.7\" name=\"Nitrogen dioxide\" rating=\"1\" rating_name=\"Very Good\">0.011</measurement>\n",
      "<measurement index=\"33.4\" name=\"Particle PM10\" rating=\"2\" rating_name=\"Good\">16.7</measurement>\n",
      "<measurement index=\"22.4\" name=\"Particle PM2.5\" rating=\"1\" rating_name=\"Very Good\">5.6</measurement>\n",
      "</station>\n",
      "<station information=\"https://apps.des.qld.gov.au/air-quality/stations/?station=ssh\" latitude=\"-27.9612\" longitude=\"153.4024\" name=\"Southport\">\n",
      "<measurement index=\"15.4\" name=\"Ozone\" rating=\"1\" rating_name=\"Very Good\">0.01</measurement>\n",
      "<measurement index=\"3.8\" name=\"Nitrogen dioxide\" rating=\"1\" rating_name=\"Very Good\">0.003</measurement>\n",
      "<measurement index=\"22.8\" name=\"Particle PM10\" rating=\"1\" rating_name=\"Very Good\">11.4</measurement>\n",
      "<measurement index=\"14.4\" name=\"Particle PM2.5\" rating=\"1\" rating_name=\"Very Good\">3.6</measurement>\n",
      "</station>\n",
      "<station information=\"https://apps.des.qld.gov.au/air-quality/stations/?station=spr\" latitude=\"-27.6125\" longitude=\"153.1359\" name=\"Springwood\">\n",
      "<measurement index=\"23.1\" name=\"Ozone\" rating=\"1\" rating_name=\"Very Good\">0.015</measurement>\n",
      "<measurement index=\"0\" name=\"Sulfur dioxide\" rating=\"1\" rating_name=\"Very Good\">0</measurement>\n",
      "<measurement index=\"5\" name=\"Nitrogen dioxide\" rating=\"1\" rating_name=\"Very Good\">0.004</measurement>\n",
      "<measurement index=\"21.2\" name=\"Particle PM10\" rating=\"1\" rating_name=\"Very Good\">10.6</measurement>\n",
      "<measurement index=\"22.4\" name=\"Particle PM2.5\" rating=\"1\" rating_name=\"Very Good\">5.6</measurement>\n",
      "</station>\n",
      "<station information=\"https://apps.des.qld.gov.au/air-quality/stations/?station=roc\" latitude=\"-27.5358\" longitude=\"152.9934\" name=\"Rocklea\">\n",
      "<measurement index=\"23.1\" name=\"Ozone\" rating=\"1\" rating_name=\"Very Good\">0.015</measurement>\n",
      "<measurement index=\"1.3\" name=\"Visibility\" rating=\"1\" rating_name=\"Very Good\">3</measurement>\n",
      "<measurement index=\"2.5\" name=\"Nitrogen dioxide\" rating=\"1\" rating_name=\"Very Good\">0.002</measurement>\n",
      "<measurement index=\"37.4\" name=\"Particle PM10\" rating=\"2\" rating_name=\"Good\">18.7</measurement>\n",
      "<measurement index=\"52\" name=\"Particle PM2.5\" rating=\"2\" rating_name=\"Good\">13</measurement>\n",
      "</station>\n",
      "<station information=\"https://apps.des.qld.gov.au/air-quality/stations/?station=mar\" latitude=\"-26.6917\" longitude=\"153.1038\" name=\"Mountain Creek\">\n",
      "<measurement index=\"21.5\" name=\"Ozone\" rating=\"1\" rating_name=\"Very Good\">0.014</measurement>\n",
      "<measurement index=\"0.9\" name=\"Visibility\" rating=\"1\" rating_name=\"Very Good\">2</measurement>\n",
      "<measurement index=\"2.5\" name=\"Nitrogen dioxide\" rating=\"1\" rating_name=\"Very Good\">0.002</measurement>\n",
      "<measurement index=\"34.4\" name=\"Particle PM10\" rating=\"2\" rating_name=\"Good\">17.2</measurement>\n",
      "<measurement index=\"24\" name=\"Particle PM2.5\" rating=\"1\" rating_name=\"Very Good\">6</measurement>\n",
      "</station>\n",
      "<station information=\"https://apps.des.qld.gov.au/air-quality/stations/?station=wyn\" latitude=\"-27.4296\" longitude=\"153.1581\" name=\"Wynnum\">\n",
      "<measurement index=\"1\" name=\"Sulfur dioxide\" rating=\"1\" rating_name=\"Very Good\">0.001</measurement>\n",
      "<measurement index=\"10\" name=\"Nitrogen dioxide\" rating=\"1\" rating_name=\"Very Good\">0.008</measurement>\n",
      "<measurement index=\"24.2\" name=\"Particle PM10\" rating=\"1\" rating_name=\"Very Good\">12.1</measurement>\n",
      "<measurement index=\"10\" name=\"Particle PM2.5\" rating=\"1\" rating_name=\"Very Good\">2.5</measurement>\n",
      "</station>\n",
      "<station information=\"https://apps.des.qld.gov.au/air-quality/stations/?station=rfv\" latitude=\"-27.6528\" longitude=\"152.7741\" name=\"Flinders View\">\n",
      "<measurement index=\"24.6\" name=\"Ozone\" rating=\"1\" rating_name=\"Very Good\">0.016</measurement>\n",
      "<measurement index=\"0.9\" name=\"Visibility\" rating=\"1\" rating_name=\"Very Good\">2</measurement>\n",
      "<measurement index=\"0\" name=\"Sulfur dioxide\" rating=\"1\" rating_name=\"Very Good\">0</measurement>\n",
      "<measurement index=\"1.2\" name=\"Nitrogen dioxide\" rating=\"1\" rating_name=\"Very Good\">0.001</measurement>\n",
      "<measurement index=\"24.8\" name=\"Particle PM10\" rating=\"1\" rating_name=\"Very Good\">12.4</measurement>\n",
      "<measurement index=\"20.4\" name=\"Particle PM2.5\" rating=\"1\" rating_name=\"Very Good\">5.1</measurement>\n",
      "</station>\n",
      "<station information=\"https://apps.des.qld.gov.au/air-quality/stations/?station=lyt\" latitude=\"-27.4065\" longitude=\"153.1527\" name=\"Lytton\">\n",
      "<measurement index=\"0\" name=\"Sulfur dioxide\" rating=\"1\" rating_name=\"Very Good\">0</measurement>\n",
      "<measurement index=\"39.8\" name=\"Particle PM10\" rating=\"2\" rating_name=\"Good\">19.9</measurement>\n",
      "<measurement index=\"15.2\" name=\"Particle PM2.5\" rating=\"1\" rating_name=\"Very Good\">3.8</measurement>\n",
      "</station>\n",
      "<station information=\"https://apps.des.qld.gov.au/air-quality/stations/?station=dea\" latitude=\"-27.3292\" longitude=\"153.0478\" name=\"Deagon\">\n",
      "<measurement index=\"21.5\" name=\"Ozone\" rating=\"1\" rating_name=\"Very Good\">0.014</measurement>\n",
      "<measurement index=\"1.3\" name=\"Visibility\" rating=\"1\" rating_name=\"Very Good\">3</measurement>\n",
      "<measurement index=\"2.5\" name=\"Nitrogen dioxide\" rating=\"1\" rating_name=\"Very Good\">0.002</measurement>\n",
      "<measurement index=\"25.6\" name=\"Particle PM10\" rating=\"1\" rating_name=\"Very Good\">12.8</measurement>\n",
      "<measurement index=\"19.6\" name=\"Particle PM2.5\" rating=\"1\" rating_name=\"Very Good\">4.9</measurement>\n",
      "</station>\n",
      "<station information=\"https://apps.des.qld.gov.au/air-quality/stations/?station=dcb\" latitude=\"-27.1935\" longitude=\"153.0348\" name=\"Deception Bay\">\n",
      "<measurement index=\"21.5\" name=\"Ozone\" rating=\"1\" rating_name=\"Very Good\">0.014</measurement>\n",
      "<measurement index=\"2.5\" name=\"Nitrogen dioxide\" rating=\"1\" rating_name=\"Very Good\">0.002</measurement>\n",
      "<measurement index=\"34.6\" name=\"Particle PM10\" rating=\"2\" rating_name=\"Good\">17.3</measurement>\n",
      "<measurement index=\"24.8\" name=\"Particle PM2.5\" rating=\"1\" rating_name=\"Very Good\">6.2</measurement>\n",
      "</station>\n",
      "<station information=\"https://apps.des.qld.gov.au/air-quality/stations/?station=can\" latitude=\"-27.4654\" longitude=\"153.0872\" name=\"Cannon Hill\">\n",
      "<measurement index=\"26.2\" name=\"Ozone\" rating=\"1\" rating_name=\"Very Good\">0.017</measurement>\n",
      "<measurement index=\"2.5\" name=\"Nitrogen dioxide\" rating=\"1\" rating_name=\"Very Good\">0.002</measurement>\n",
      "<measurement index=\"36.6\" name=\"Particle PM10\" rating=\"2\" rating_name=\"Good\">18.3</measurement>\n",
      "<measurement index=\"21.2\" name=\"Particle PM2.5\" rating=\"1\" rating_name=\"Very Good\">5.3</measurement>\n",
      "<measurement index=\"30.4\" name=\"Particles TSP\" rating=\"1\" rating_name=\"Very Good\">24.3</measurement>\n",
      "</station>\n",
      "<station information=\"https://apps.des.qld.gov.au/air-quality/stations/?station=cbd\" latitude=\"-27.4774\" longitude=\"153.0281\" name=\"Brisbane CBD\">\n",
      "<measurement index=\"2.1\" name=\"Visibility\" rating=\"1\" rating_name=\"Very Good\">5</measurement>\n",
      "<measurement index=\"31.4\" name=\"Particle PM10\" rating=\"1\" rating_name=\"Very Good\">15.7</measurement>\n",
      "<measurement index=\"22\" name=\"Particle PM2.5\" rating=\"1\" rating_name=\"Very Good\">5.5</measurement>\n",
      "</station>\n",
      "</region>\n"
     ]
    }
   ],
   "source": [
    "southEastQueensland = xml_soup.find_all('region', {'name': 'South East Queensland'})\n",
    "southEastQueensland = southEastQueensland[0]\n",
    "print(southEastQueensland)"
   ]
  },
  {
   "cell_type": "code",
   "execution_count": null,
   "metadata": {},
   "outputs": [
    {
     "name": "stdout",
     "output_type": "stream",
     "text": [
      "<station information=\"https://apps.des.qld.gov.au/air-quality/stations/?station=mut\" latitude=\"-27.7528\" longitude=\"152.6509\" name=\"Mutdapilly\">\n",
      "<measurement index=\"21.5\" name=\"Ozone\" rating=\"1\" rating_name=\"Very Good\">0.014</measurement>\n",
      "<measurement index=\"2.5\" name=\"Nitrogen dioxide\" rating=\"1\" rating_name=\"Very Good\">0.002</measurement>\n",
      "<measurement index=\"47.6\" name=\"Particle PM10\" rating=\"2\" rating_name=\"Good\">23.8</measurement>\n",
      "<measurement index=\"20.8\" name=\"Particle PM2.5\" rating=\"1\" rating_name=\"Very Good\">5.2</measurement>\n",
      "</station>\n"
     ]
    }
   ],
   "source": [
    "stations = southEastQueensland.find_all('station', {})\n",
    "first_station = stations[0]\n",
    "print(first_station)"
   ]
  },
  {
   "cell_type": "code",
   "execution_count": null,
   "metadata": {},
   "outputs": [
    {
     "name": "stdout",
     "output_type": "stream",
     "text": [
      "[<measurement index=\"2.5\" name=\"Nitrogen dioxide\" rating=\"1\" rating_name=\"Very Good\">0.002</measurement>]\n"
     ]
    }
   ],
   "source": [
    "print(first_station.find_all('measurement', {'name':'Nitrogen dioxide'}))"
   ]
  },
  {
   "cell_type": "code",
   "execution_count": null,
   "metadata": {},
   "outputs": [],
   "source": [
    "headers = 'Station Name, Nitrogen dioxide, Ozone, Sulfur dioxide, Carbon monoxide, Particle PM10, Particle PM2.5, Particles TSP, Visibility\\n'"
   ]
  },
  {
   "cell_type": "code",
   "execution_count": null,
   "metadata": {},
   "outputs": [],
   "source": [
    "filename = 'Air Quality XML.csv'\n",
    "f = open(filename, 'w')\n",
    "\n",
    "f.write(headers)\n",
    "\n",
    "for station in stations:\n",
    "    station_string = ''\n",
    "    station_name = station['name'] + ','\n",
    "    nd = station.find_all('measurement', {'name': 'Nitrogen dioxide'})\n",
    "    nd = ',' if len(nd) == 0 else str(nd[0].text) + ','\n",
    "    o = station.find_all('measurement', {'name': 'Ozone'})\n",
    "    o = ',' if len(o) == 0 else str(o[0].text) + ','\n",
    "    sd = station.find_all('measurement', {'name': 'Sulfur dioxide'})\n",
    "    sd = ',' if len(sd) == 0 else str(sd[0].text) + ','\n",
    "    cm = station.find_all('measurement', {'name': 'Carbon monoxide'})\n",
    "    cm = ',' if len(cm) == 0 else str(cm[0].text) + ','\n",
    "    ppm10 = station.find_all('measurement', {'name': 'Particle PM10'})\n",
    "    ppm10 = ',' if len(ppm10) == 0 else str(ppm10[0].text) + ','\n",
    "    ppm2 = station.find_all('measurement', {'name': 'Particle PM2.5'})\n",
    "    ppm2 = ',' if len(ppm2) == 0 else str(ppm2[0].text) + ','\n",
    "    ptsp = station.find_all('measurement', {'name': 'Particles TSP'})\n",
    "    ptsp = ',' if len(ptsp) == 0 else str(ptsp[0].text) + ','\n",
    "    v = station.find_all('measurement', {'name': 'Visibility'})\n",
    "    v = '\\n' if len(v) == 0 else str(v[0].text) + '\\n'\n",
    "    \n",
    "    station_string += station_name + nd + o + sd + cm + ppm10 + ppm2 + ptsp + v\n",
    "    f.write(station_string)\n"
   ]
  },
  {
   "cell_type": "code",
   "execution_count": null,
   "metadata": {},
   "outputs": [],
   "source": []
  }
 ],
 "metadata": {
  "kernelspec": {
   "display_name": "Python 3 (ipykernel)",
   "language": "python",
   "name": "python3"
  },
  "language_info": {
   "codemirror_mode": {
    "name": "ipython",
    "version": 3
   },
   "file_extension": ".py",
   "mimetype": "text/x-python",
   "name": "python",
   "nbconvert_exporter": "python",
   "pygments_lexer": "ipython3",
   "version": "3.12.1"
  }
 },
 "nbformat": 4,
 "nbformat_minor": 2
}
