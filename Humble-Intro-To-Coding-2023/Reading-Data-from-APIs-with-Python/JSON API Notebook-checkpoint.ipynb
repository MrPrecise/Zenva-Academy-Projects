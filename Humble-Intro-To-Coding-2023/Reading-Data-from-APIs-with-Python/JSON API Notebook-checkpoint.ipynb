{
 "cells": [
  {
   "cell_type": "code",
   "execution_count": 1,
   "metadata": {},
   "outputs": [],
   "source": [
    "from urllib.request import urlopen\n",
    "import json"
   ]
  },
  {
   "cell_type": "code",
   "execution_count": 2,
   "metadata": {},
   "outputs": [
    {
     "name": "stdout",
     "output_type": "stream",
     "text": [
      "{\"help\": \"https://www.data.qld.gov.au/api/3/action/help_show?name=datastore_search\", \"success\": true, \"result\": {\"include_total\": true, \"limit\": 5, \"records_format\": \"objects\", \"resource_id\": \"7afe7233-fae0-4024-bc98-3a72f05675bd\", \"total_estimation_threshold\": null, \"records\": [{\"_id\": 50105186, \"Site\": \"abellpoint\", \"Seconds\": \"1707487200\", \"DateTime\": \"2024-02-10T00:00\", \"Water Level\": \"2.235\", \"Prediction\": \"2.179\", \"Residual\": \"0.056\", \"Latitude\": \"-20.2608\", \"Longitude\": \"148.7103\"}, {\"_id\": 50105187, \"Site\": \"abellpoint\", \"Seconds\": \"1707487800\", \"DateTime\": \"2024-02-10T00:10\", \"Water Level\": \"2.101\", \"Prediction\": \"2.083\", \"Residual\": \"0.018\", \"Latitude\": \"-20.2608\", \"Longitude\": \"148.7103\"}, {\"_id\": 50105188, \"Site\": \"abellpoint\", \"Seconds\": \"1707488400\", \"DateTime\": \"2024-02-10T00:20\", \"Water Level\": \"2.003\", \"Prediction\": \"1.983\", \"Residual\": \"0.020\", \"Latitude\": \"-20.2608\", \"Longitude\": \"148.7103\"}, {\"_id\": 50105189, \"Site\": \"abellpoint\", \"Seconds\": \"1707489000\", \"DateTime\": \"2024-02-10T00:30\", \"Water Level\": \"1.896\", \"Prediction\": \"1.879\", \"Residual\": \"0.017\", \"Latitude\": \"-20.2608\", \"Longitude\": \"148.7103\"}, {\"_id\": 50105190, \"Site\": \"abellpoint\", \"Seconds\": \"1707489600\", \"DateTime\": \"2024-02-10T00:40\", \"Water Level\": \"1.784\", \"Prediction\": \"1.771\", \"Residual\": \"0.013\", \"Latitude\": \"-20.2608\", \"Longitude\": \"148.7103\"}], \"fields\": [{\"id\": \"_id\", \"type\": \"int\"}, {\"id\": \"Site\", \"type\": \"text\"}, {\"id\": \"Seconds\", \"type\": \"text\"}, {\"id\": \"DateTime\", \"type\": \"text\"}, {\"id\": \"Water Level\", \"type\": \"text\"}, {\"id\": \"Prediction\", \"type\": \"text\"}, {\"id\": \"Residual\", \"type\": \"text\"}, {\"id\": \"Latitude\", \"type\": \"text\"}, {\"id\": \"Longitude\", \"type\": \"text\"}], \"_links\": {\"start\": \"/api/action/datastore_search?limit=5&resource_id=7afe7233-fae0-4024-bc98-3a72f05675bd\", \"next\": \"/api/action/datastore_search?limit=5&resource_id=7afe7233-fae0-4024-bc98-3a72f05675bd&offset=5\"}, \"total\": 64111, \"total_was_estimated\": false}}\n"
     ]
    }
   ],
   "source": [
    "url = 'https://data.qld.gov.au/api/action/datastore_search?resource_id=7afe7233-fae0-4024-bc98-3a72f05675bd&limit=5'\n",
    "url_result = urlopen(url)\n",
    "raw_data = url_result.read()\n",
    "json_data = json.loads(raw_data)\n",
    "json_string = json.dumps(json_data)\n",
    "print(json_string)"
   ]
  },
  {
   "cell_type": "code",
   "execution_count": 3,
   "metadata": {},
   "outputs": [
    {
     "name": "stdout",
     "output_type": "stream",
     "text": [
      "{'include_total': True, 'limit': 5, 'records_format': 'objects', 'resource_id': '7afe7233-fae0-4024-bc98-3a72f05675bd', 'total_estimation_threshold': None, 'records': [{'_id': 50105186, 'Site': 'abellpoint', 'Seconds': '1707487200', 'DateTime': '2024-02-10T00:00', 'Water Level': '2.235', 'Prediction': '2.179', 'Residual': '0.056', 'Latitude': '-20.2608', 'Longitude': '148.7103'}, {'_id': 50105187, 'Site': 'abellpoint', 'Seconds': '1707487800', 'DateTime': '2024-02-10T00:10', 'Water Level': '2.101', 'Prediction': '2.083', 'Residual': '0.018', 'Latitude': '-20.2608', 'Longitude': '148.7103'}, {'_id': 50105188, 'Site': 'abellpoint', 'Seconds': '1707488400', 'DateTime': '2024-02-10T00:20', 'Water Level': '2.003', 'Prediction': '1.983', 'Residual': '0.020', 'Latitude': '-20.2608', 'Longitude': '148.7103'}, {'_id': 50105189, 'Site': 'abellpoint', 'Seconds': '1707489000', 'DateTime': '2024-02-10T00:30', 'Water Level': '1.896', 'Prediction': '1.879', 'Residual': '0.017', 'Latitude': '-20.2608', 'Longitude': '148.7103'}, {'_id': 50105190, 'Site': 'abellpoint', 'Seconds': '1707489600', 'DateTime': '2024-02-10T00:40', 'Water Level': '1.784', 'Prediction': '1.771', 'Residual': '0.013', 'Latitude': '-20.2608', 'Longitude': '148.7103'}], 'fields': [{'id': '_id', 'type': 'int'}, {'id': 'Site', 'type': 'text'}, {'id': 'Seconds', 'type': 'text'}, {'id': 'DateTime', 'type': 'text'}, {'id': 'Water Level', 'type': 'text'}, {'id': 'Prediction', 'type': 'text'}, {'id': 'Residual', 'type': 'text'}, {'id': 'Latitude', 'type': 'text'}, {'id': 'Longitude', 'type': 'text'}], '_links': {'start': '/api/action/datastore_search?limit=5&resource_id=7afe7233-fae0-4024-bc98-3a72f05675bd', 'next': '/api/action/datastore_search?limit=5&resource_id=7afe7233-fae0-4024-bc98-3a72f05675bd&offset=5'}, 'total': 64111, 'total_was_estimated': False}\n"
     ]
    }
   ],
   "source": [
    "result = json_data['result']\n",
    "print(result)"
   ]
  },
  {
   "cell_type": "code",
   "execution_count": 4,
   "metadata": {},
   "outputs": [
    {
     "name": "stdout",
     "output_type": "stream",
     "text": [
      "[{'_id': 50105186, 'Site': 'abellpoint', 'Seconds': '1707487200', 'DateTime': '2024-02-10T00:00', 'Water Level': '2.235', 'Prediction': '2.179', 'Residual': '0.056', 'Latitude': '-20.2608', 'Longitude': '148.7103'}, {'_id': 50105187, 'Site': 'abellpoint', 'Seconds': '1707487800', 'DateTime': '2024-02-10T00:10', 'Water Level': '2.101', 'Prediction': '2.083', 'Residual': '0.018', 'Latitude': '-20.2608', 'Longitude': '148.7103'}, {'_id': 50105188, 'Site': 'abellpoint', 'Seconds': '1707488400', 'DateTime': '2024-02-10T00:20', 'Water Level': '2.003', 'Prediction': '1.983', 'Residual': '0.020', 'Latitude': '-20.2608', 'Longitude': '148.7103'}, {'_id': 50105189, 'Site': 'abellpoint', 'Seconds': '1707489000', 'DateTime': '2024-02-10T00:30', 'Water Level': '1.896', 'Prediction': '1.879', 'Residual': '0.017', 'Latitude': '-20.2608', 'Longitude': '148.7103'}, {'_id': 50105190, 'Site': 'abellpoint', 'Seconds': '1707489600', 'DateTime': '2024-02-10T00:40', 'Water Level': '1.784', 'Prediction': '1.771', 'Residual': '0.013', 'Latitude': '-20.2608', 'Longitude': '148.7103'}]\n"
     ]
    }
   ],
   "source": [
    "records = result['records']\n",
    "print(records)"
   ]
  },
  {
   "cell_type": "code",
   "execution_count": 5,
   "metadata": {},
   "outputs": [
    {
     "name": "stdout",
     "output_type": "stream",
     "text": [
      "abellpoint\n",
      "2024-02-10T00:00\n",
      "2.235\n",
      "2.179\n",
      "0.056\n"
     ]
    }
   ],
   "source": [
    "first_record = records[0]\n",
    "print(first_record['Site'])\n",
    "print(first_record['DateTime'])\n",
    "print(first_record['Water Level'])\n",
    "print(first_record['Prediction'])\n",
    "print(first_record['Residual'])\n"
   ]
  },
  {
   "cell_type": "code",
   "execution_count": 6,
   "metadata": {},
   "outputs": [
    {
     "name": "stdout",
     "output_type": "stream",
     "text": [
      "[['abellpoint', '2024-02-10T00:00', '2.235', '2.179', '0.056'], ['abellpoint', '2024-02-10T00:10', '2.101', '2.083', '0.018'], ['abellpoint', '2024-02-10T00:20', '2.003', '1.983', '0.020'], ['abellpoint', '2024-02-10T00:30', '1.896', '1.879', '0.017'], ['abellpoint', '2024-02-10T00:40', '1.784', '1.771', '0.013']]\n"
     ]
    }
   ],
   "source": [
    "records_data = []\n",
    "for record in records:\n",
    "    record_data = [\n",
    "        record['Site'],\n",
    "        record['DateTime'],\n",
    "        record['Water Level'],\n",
    "        record['Prediction'],\n",
    "        record['Residual']\n",
    "    ]\n",
    "    records_data.append(record_data)\n",
    "print(records_data)"
   ]
  },
  {
   "cell_type": "code",
   "execution_count": 7,
   "metadata": {},
   "outputs": [],
   "source": [
    "filename = 'Storm Tide Data.csv'\n",
    "f = open(filename, 'w')\n",
    "\n",
    "headers = 'Site, DateTime, Water Level, Prediction, Residual\\n'\n",
    "f.write(headers)\n",
    "\n",
    "for record in records:\n",
    "    row_string = ''\n",
    "    row_string += record['Site'] + ','\n",
    "    row_string += record['DateTime'] + ','\n",
    "    row_string += str(record['Water Level']) + ','\n",
    "    row_string += str(record['Prediction']) + ','\n",
    "    row_string += str(record['Residual']) + '\\n'\n",
    "    f.write(row_string)\n",
    "    \n"
   ]
  }
 ],
 "metadata": {
  "kernelspec": {
   "display_name": "Python 3",
   "language": "python",
   "name": "python3"
  },
  "language_info": {
   "codemirror_mode": {
    "name": "ipython",
    "version": 3
   },
   "file_extension": ".py",
   "mimetype": "text/x-python",
   "name": "python",
   "nbconvert_exporter": "python",
   "pygments_lexer": "ipython3",
   "version": "3.10.6"
  }
 },
 "nbformat": 4,
 "nbformat_minor": 2
}
